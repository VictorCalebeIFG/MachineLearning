{
  "nbformat": 4,
  "nbformat_minor": 0,
  "metadata": {
    "colab": {
      "name": "Metodo_de_Bayes_Censo.ipynb",
      "provenance": [],
      "authorship_tag": "ABX9TyNfSdYKXT5D31WFWXIuAqGz",
      "include_colab_link": true
    },
    "kernelspec": {
      "name": "python3",
      "display_name": "Python 3"
    },
    "language_info": {
      "name": "python"
    }
  },
  "cells": [
    {
      "cell_type": "markdown",
      "metadata": {
        "id": "view-in-github",
        "colab_type": "text"
      },
      "source": [
        "<a href=\"https://colab.research.google.com/github/VictorCalebeIFG/MachineLearning_Python/blob/main/Metodo_de_Bayes_Censo.ipynb\" target=\"_parent\"><img src=\"https://colab.research.google.com/assets/colab-badge.svg\" alt=\"Open In Colab\"/></a>"
      ]
    },
    {
      "cell_type": "markdown",
      "source": [
        "# **Métodos de Bayes - Dados do Censo**"
      ],
      "metadata": {
        "id": "BKBymWnJhyXe"
      }
    },
    {
      "cell_type": "markdown",
      "source": [
        "Importação dos dados"
      ],
      "metadata": {
        "id": "xlUCy7NwiwYs"
      }
    },
    {
      "cell_type": "code",
      "execution_count": 5,
      "metadata": {
        "id": "3c1Iuss9hs5D"
      },
      "outputs": [],
      "source": [
        "import pickle\n",
        "\n",
        "with open(\"/content/censo.pkl\",\"rb\") as f:\n",
        "    x_censo_treino,y_censo_treino,x_censo_teste,y_censo_teste = pickle.load(f)\n"
      ]
    },
    {
      "cell_type": "markdown",
      "source": [
        "Treinar o modelo preditivo:"
      ],
      "metadata": {
        "id": "vdQeF3Lgi0Ng"
      }
    },
    {
      "cell_type": "code",
      "source": [
        "from sklearn.naive_bayes import GaussianNB\n",
        "\n",
        "naive = GaussianNB()\n",
        "naive.fit(x_censo_treino,y_censo_treino)"
      ],
      "metadata": {
        "colab": {
          "base_uri": "https://localhost:8080/"
        },
        "id": "Az8sH4B-ir6n",
        "outputId": "4342819c-dfd8-42eb-e2d6-1c054561fc59"
      },
      "execution_count": 6,
      "outputs": [
        {
          "output_type": "execute_result",
          "data": {
            "text/plain": [
              "GaussianNB()"
            ]
          },
          "metadata": {},
          "execution_count": 6
        }
      ]
    },
    {
      "cell_type": "markdown",
      "source": [
        "Previsões"
      ],
      "metadata": {
        "id": "gRoweQKHjTFS"
      }
    },
    {
      "cell_type": "code",
      "source": [
        "previsoes = naive.predict(x_censo_teste)\n",
        "previsoes"
      ],
      "metadata": {
        "colab": {
          "base_uri": "https://localhost:8080/"
        },
        "id": "2q7mUvtTjGsP",
        "outputId": "c282bcfe-1db8-45f0-d3bd-9255c653fc1e"
      },
      "execution_count": 7,
      "outputs": [
        {
          "output_type": "execute_result",
          "data": {
            "text/plain": [
              "array([' >50K', ' >50K', ' >50K', ..., ' <=50K', ' >50K', ' >50K'],\n",
              "      dtype='<U6')"
            ]
          },
          "metadata": {},
          "execution_count": 7
        }
      ]
    },
    {
      "cell_type": "markdown",
      "source": [
        "Verificando a acurracia do modelo"
      ],
      "metadata": {
        "id": "hFfq8fvJjdML"
      }
    },
    {
      "cell_type": "code",
      "source": [
        "from sklearn.metrics import accuracy_score\n",
        "\n",
        "accuracy_score(y_censo_teste,previsoes)"
      ],
      "metadata": {
        "colab": {
          "base_uri": "https://localhost:8080/"
        },
        "id": "dPdoWPbmjfml",
        "outputId": "1c397620-34ee-40c3-96eb-1de7abe18afd"
      },
      "execution_count": 8,
      "outputs": [
        {
          "output_type": "execute_result",
          "data": {
            "text/plain": [
              "0.4767656090071648"
            ]
          },
          "metadata": {},
          "execution_count": 8
        }
      ]
    },
    {
      "cell_type": "markdown",
      "source": [
        "Como pode ser visto, a acuracia do modelo é bem baixa. As vezes será necessário modificar o preprocessamento (\"de acordo com o professor, ao retirar a padronização do preprocessamento, neste algorítmo e para essa base de dados em específico, a acurácia aumentou para 75%\")"
      ],
      "metadata": {
        "id": "JFGIR08gj0MV"
      }
    },
    {
      "cell_type": "code",
      "source": [
        "from yellowbrick.classifier import ConfusionMatrix"
      ],
      "metadata": {
        "id": "C1ZX19rkkKYX"
      },
      "execution_count": 10,
      "outputs": []
    },
    {
      "cell_type": "code",
      "source": [
        "cm = ConfusionMatrix(naive)\n",
        "cm.fit(x_censo_treino,y_censo_treino)\n",
        "cm.score(x_censo_teste,y_censo_teste)"
      ],
      "metadata": {
        "colab": {
          "base_uri": "https://localhost:8080/",
          "height": 393
        },
        "id": "lREaeUJ3kSdm",
        "outputId": "b4319d5f-a056-48e6-ac94-8e32237e6775"
      },
      "execution_count": 11,
      "outputs": [
        {
          "output_type": "execute_result",
          "data": {
            "text/plain": [
              "0.4767656090071648"
            ]
          },
          "metadata": {},
          "execution_count": 11
        },
        {
          "output_type": "display_data",
          "data": {
            "image/png": "[encoded data removed]",
            "text/plain": [
              "<Figure size 576x396 with 1 Axes>"
            ]
          },
          "metadata": {}
        }
      ]
    }
  ]
}